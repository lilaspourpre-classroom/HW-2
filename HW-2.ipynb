{
 "cells": [
  {
   "cell_type": "markdown",
   "metadata": {},
   "source": [
    "# Домашнее задание 2. Предобработка данных (42 балла)"
   ]
  },
  {
   "cell_type": "markdown",
   "metadata": {},
   "source": [
    "## 1. Определитесь с тематикой вашего исследования. (3 балла)\n",
    "\n",
    "Если нет своей идеи, то предлагается тема \"Территории развития рэп-культуры (культуры хип-хопа) в Российской Федерации\""
   ]
  },
  {
   "cell_type": "markdown",
   "metadata": {},
   "source": [
    "1. (1 балл) Впишите тему вашего исследования как комментарий."
   ]
  },
  {
   "cell_type": "code",
   "execution_count": null,
   "metadata": {},
   "outputs": [],
   "source": []
  },
  {
   "cell_type": "markdown",
   "metadata": {},
   "source": [
    "2. (1 балл) Загрузите сессию VK API:"
   ]
  },
  {
   "cell_type": "code",
   "execution_count": 3,
   "metadata": {},
   "outputs": [],
   "source": [
    "import vk  # Загружаем библиотеку vk"
   ]
  },
  {
   "cell_type": "code",
   "execution_count": 26,
   "metadata": {},
   "outputs": [],
   "source": [
    "token = \"\"  # Сервисный ключ доступа, по завершении дз можно удалить для соблюдения конфиденциальности\n",
    "session = vk.Session(access_token=token)  # Авторизация\n",
    "vk_api = vk.API(session)  # Авторизация"
   ]
  },
  {
   "cell_type": "markdown",
   "metadata": {},
   "source": [
    "3. (1 балл) Загрузите сессию с персональным ключом доступа с https://vkhost.github.io/"
   ]
  },
  {
   "cell_type": "code",
   "execution_count": 4,
   "metadata": {},
   "outputs": [],
   "source": [
    "personal_token = \"\"  # Персональный ключ доступа, по завершении дз можно удалить для соблюдения конфиденциальности\n",
    "session = vk.Session(access_token=personal_token)  # Авторизация\n",
    "vk_personal_api = vk.API(session)  # Авторизация"
   ]
  },
  {
   "cell_type": "markdown",
   "metadata": {},
   "source": [
    "## 2. Работа с пабликами по вашей тематике (6 баллов)"
   ]
  },
  {
   "cell_type": "markdown",
   "metadata": {},
   "source": [
    "Обратите внимание — даже при использовании параметра offset для получения информации доступны только первые 1000 результатов."
   ]
  },
  {
   "cell_type": "code",
   "execution_count": 8,
   "metadata": {},
   "outputs": [],
   "source": [
    "def get_groups(query):\n",
    "    first = vk_personal_api.groups.search(q=query, count=1000, type=\"group\", v=5.124) \n",
    "    data = first[\"items\"]  # Присваиваем переменной первую тысячу id'шников\n",
    "    count = first[\"count\"]  # общее количество пабликов по вашему запросу\n",
    "    return [(i['name'], i['id']) for i in data]"
   ]
  },
  {
   "cell_type": "markdown",
   "metadata": {},
   "source": [
    "3. (3 балла) Найдите паблики, связанные с вашей темой. Используйте функцию `get_groups` как минимум трижды с разными ключевыми словами для поиска. Например:\n",
    "\n",
    "`groups1 = get_groups(\"французский язык\")`\n",
    "\n",
    "`groups2 = get_groups(\"Франция\")`\n",
    "\n",
    "`groups3 = get_groups(\"франкофоны\")`"
   ]
  },
  {
   "cell_type": "code",
   "execution_count": 7,
   "metadata": {},
   "outputs": [],
   "source": [
    "# your code here"
   ]
  },
  {
   "cell_type": "markdown",
   "metadata": {},
   "source": [
    "4. (2 балла) Объедините полученные результаты в `set`, чтобы избежать повторений. Сколько групп у вас получилось в итоге?"
   ]
  },
  {
   "cell_type": "code",
   "execution_count": null,
   "metadata": {},
   "outputs": [],
   "source": [
    "# your code here"
   ]
  },
  {
   "cell_type": "markdown",
   "metadata": {},
   "source": [
    "5. (1 балл) Сохраните полученные результаты в файл при помощи функции `save_groups_to_file`"
   ]
  },
  {
   "cell_type": "code",
   "execution_count": 9,
   "metadata": {},
   "outputs": [],
   "source": [
    "def save_groups_to_file(filename, groups):\n",
    "    with open(filename, 'w', encoding=\"utf-8\") as f:\n",
    "        for group_name, group_id in groups:\n",
    "            f.write(f\"{group_name}\\t{group_id}\\n\")"
   ]
  },
  {
   "cell_type": "code",
   "execution_count": null,
   "metadata": {},
   "outputs": [],
   "source": [
    "# your code here"
   ]
  },
  {
   "cell_type": "markdown",
   "metadata": {},
   "source": [
    "## 3. Работа с конкретным пабликом (33 балла)\n",
    "\n",
    "Выберите интересующий вас паблик (например, из списка пабликов предыдущего задания). В этой секции будем работать с ним."
   ]
  },
  {
   "cell_type": "markdown",
   "metadata": {},
   "source": [
    "### 3.1 Участники паблика (3 балла)"
   ]
  },
  {
   "cell_type": "code",
   "execution_count": 10,
   "metadata": {},
   "outputs": [],
   "source": [
    "def get_members(groupid, fields=('sex', 'bdate', 'city', 'country', 'domain')):\n",
    "    first = vk_api.groups.getMembers(group_id=groupid, fields=fields, v=5.92)  # Первое выполнение метода\n",
    "    data = first[\"items\"]  # Присваиваем переменной первую тысячу id'шников\n",
    "    count = first[\"count\"] // 1000  # Присваиваем переменной количество тысяч участников\n",
    "    # С каждым проходом цикла смещение offset увеличивается на тысячу\n",
    "    # и еще тысяча id'шников добавляется к нашему списку.\n",
    "    for i in range(1, count+1):  \n",
    "        data = data + vk_api.groups.getMembers(group_id=groupid, fields=fields, v=5.92, offset=i*1000)[\"items\"]\n",
    "    return data"
   ]
  },
  {
   "cell_type": "markdown",
   "metadata": {},
   "source": [
    "6. (1 балл) Используя функцию `get_members`, найдите всех пользователей интересующей вас группы. Результат сохраните в переменную `members`.\n",
    "\n",
    "_Hint: на вход функции подается не название паблика, а его id или nickname из адресной строки. Например, участников паблика группы СБПЧ можно найти так:_\n",
    "\n",
    "\n",
    "`members = get_members(\"sbp4band\")`  \n",
    "\n",
    "или так\n",
    "\n",
    "`members = get_members(\"174327\")` \n",
    "\n",
    "https://vk.com/sbp4band \n",
    "\n",
    "https://vk.com/club174327"
   ]
  },
  {
   "cell_type": "code",
   "execution_count": null,
   "metadata": {},
   "outputs": [],
   "source": [
    "# your code here"
   ]
  },
  {
   "cell_type": "markdown",
   "metadata": {},
   "source": [
    "7. (1 балл) Посчитайте общее количество участников:"
   ]
  },
  {
   "cell_type": "code",
   "execution_count": null,
   "metadata": {},
   "outputs": [],
   "source": [
    "# your code here"
   ]
  },
  {
   "cell_type": "markdown",
   "metadata": {},
   "source": [
    "8. (1 балл) Cохраните в файл данные об участниках при помощи функции `save_members_to_file`:"
   ]
  },
  {
   "cell_type": "code",
   "execution_count": 12,
   "metadata": {},
   "outputs": [],
   "source": [
    "def save_members_to_file(filename, members):\n",
    "    with open(filename, 'w', encoding='utf-8') as f:\n",
    "        for member in members:\n",
    "            _id = member[\"id\"] # находим айди участника\n",
    "            first_name = member[\"first_name\"] # находим имя учатника\n",
    "            last_name = member[\"last_name\"] # находим фамилию учатника\n",
    "            \n",
    "            sex = member[\"sex\"] # находим пол учатника (1 или 2)\n",
    "            if int(sex) == 1:  # если пол это 1 \n",
    "                sex = \"F\"  # обозначем женский пол как F\n",
    "            elif int(sex) == 2:  # если пол это 2 \n",
    "                sex = \"M\" # обозначем мужской пол как F\n",
    "            else:  # если есть другой какой-то пол\n",
    "                sex = \"-\"  # скорее всего нет, поэтому ставим прочерк\n",
    "                \n",
    "            bdate = member.get('bdate', \"-\")   # находим день рождения учатника\n",
    "            if len(bdate.split(\".\")) == 3:  # нам нужен только год, если он есть\n",
    "                bdate = bdate.split(\".\")[-1]  # то сохраняем год\n",
    "            else:  # если год не указан, то возраст участника мы не узнаем\n",
    "                bdate = \"-\"  # поэтому прочерк\n",
    "                \n",
    "            city = member.get('city', {}).get(\"title\", \"-\")  # находим город участника\n",
    "            country = member.get('country', {}).get(\"title\", \"-\")  # находим страну участника\n",
    "            f.write(f\"{_id},\\t{first_name}\\t{last_name}\\t{sex}\\t{bdate}\\t{city}\\t{country}\\n\")  # сохраняем информацию в файл"
   ]
  },
  {
   "cell_type": "code",
   "execution_count": 13,
   "metadata": {},
   "outputs": [],
   "source": [
    "# your code here"
   ]
  },
  {
   "cell_type": "markdown",
   "metadata": {},
   "source": [
    "### 3.2. Работа с постами паблика (30 баллов)"
   ]
  },
  {
   "cell_type": "markdown",
   "metadata": {},
   "source": [
    "9. (1 балл) Используя функцию, `get_posts`, выгрузите все посты интересующего вас паблика. Сохраните посты в переменную `posts`."
   ]
  },
  {
   "cell_type": "code",
   "execution_count": 14,
   "metadata": {},
   "outputs": [],
   "source": [
    "def get_posts(owner_id):\n",
    "    first = vk_api.wall.get(domain=owner_id, count=100, filter=\"owner\", v=5.124)\n",
    "    data = first[\"items\"]  # Присваиваем переменной первую тысячу id'шников\n",
    "    count = first[\"count\"] // 100  # Присваиваем переменной количество тысяч участников\n",
    "    # С каждым проходом цикла смещение offset увеличивается на тысячу\n",
    "    # и еще тысяча id'шников добавляется к нашему списку.\n",
    "    for i in range(1, count+1):  \n",
    "        data += vk_api.wall.get(domain=owner_id, v=5.124, filter=\"owner\", count=100, offset=i*100)[\"items\"]\n",
    "    return [i['text'] for i in data]"
   ]
  },
  {
   "cell_type": "code",
   "execution_count": 15,
   "metadata": {},
   "outputs": [],
   "source": [
    "# your code here"
   ]
  },
  {
   "cell_type": "markdown",
   "metadata": {},
   "source": [
    "10. (1 балл) Сколько постов у вас получилось?"
   ]
  },
  {
   "cell_type": "code",
   "execution_count": 16,
   "metadata": {},
   "outputs": [],
   "source": [
    "# your code here"
   ]
  },
  {
   "cell_type": "markdown",
   "metadata": {},
   "source": [
    "11. (3 балла) Напишите функцию `delete_newlines`, которая принимает на вход текст поста, заменяет в нем переходы на новую строку на пробелы и возвращает обратно текст поста (без переходов на новую строку)."
   ]
  },
  {
   "cell_type": "code",
   "execution_count": 32,
   "metadata": {},
   "outputs": [],
   "source": [
    "# your code here"
   ]
  },
  {
   "cell_type": "markdown",
   "metadata": {},
   "source": [
    "Если вы все сделали правильно, то следующая ячейка отработает без ошибок и сохранит посты без переходов на новую строку"
   ]
  },
  {
   "cell_type": "code",
   "execution_count": 31,
   "metadata": {},
   "outputs": [],
   "source": [
    "posts = [delete_newlines(post) for post in posts]"
   ]
  },
  {
   "cell_type": "code",
   "execution_count": 37,
   "metadata": {},
   "outputs": [],
   "source": [
    "with open(\"textss.txt\", 'w', encoding=\"utf-8\") as f:\n",
    "    for post in posts:\n",
    "        f.write(post+\"\\n\")"
   ]
  },
  {
   "cell_type": "markdown",
   "metadata": {},
   "source": [
    "12. (1 балл) Напечатайте 10 последних с конца списка постов, чтобы убедиться, что переходов на новую строку нет."
   ]
  },
  {
   "cell_type": "code",
   "execution_count": 35,
   "metadata": {},
   "outputs": [],
   "source": [
    "# your code here"
   ]
  },
  {
   "cell_type": "markdown",
   "metadata": {},
   "source": [
    "13. (5 баллов) Напишите регулярное выражение для поиска ссылок в текстах постов.\n",
    "\n",
    "Под ссылками понимается любая ссылка, она необязательно может начинаться с _https_, например:\n",
    "\n",
    "http://www.vinylbox.ru/\n",
    "\n",
    "https://sbp4band.ticketscloud.org\n",
    "\n",
    "concert.ua/event/sbpch\n",
    "\n",
    "bit.ly/2Sg0B1f\n",
    "\n",
    "vk.cc/tickets"
   ]
  },
  {
   "cell_type": "code",
   "execution_count": 24,
   "metadata": {},
   "outputs": [],
   "source": [
    "import re  # загружаем библиотеку для регулярок"
   ]
  },
  {
   "cell_type": "code",
   "execution_count": 88,
   "metadata": {},
   "outputs": [],
   "source": [
    "# your regexp below\n",
    "pattern_link = re.compile(r\"your regexp\")"
   ]
  },
  {
   "cell_type": "markdown",
   "metadata": {},
   "source": [
    "14. (7 баллов) Проверим ваше регулярное выражение на тексте `test` (1 балл за каждую правильную ссылку):"
   ]
  },
  {
   "cell_type": "code",
   "execution_count": 87,
   "metadata": {},
   "outputs": [
    {
     "name": "stdout",
     "output_type": "stream",
     "text": [
      "На следующей неделе мы захватываем Екатеринбург!  2 марта, \"Дом Печати\"!  WEBLINK\n",
      "Все спортсмены на месте! WEBLINK \n",
      "Билеты: WEBLINK \n",
      "В Петербурге все билеты были проданы еще в пятницу, в Москве пока еще есть: WEBLINK \n",
      "Apple: WEBLINK\n"
     ]
    }
   ],
   "source": [
    "test = '''На следующей неделе мы захватываем Екатеринбург!  2 марта, \"Дом Печати\"!  https://sbp4band.ticketscloud.org\n",
    "Все спортсмены на месте! https://vk.com/sbp4_ekb \n",
    "Билеты: concert.ua/event/sbpch \n",
    "В Петербурге все билеты были проданы еще в пятницу, в Москве пока еще есть: vk.cc/7QWFXX \n",
    "Apple: http://goo.gl/rcmii8  Google: http://goo.gl/MzXj1C  Яндекс: https://vk.cc/7UrxWa'''\n",
    "\n",
    "print(re.sub(pattern_link, \"WEBLINK\", test))"
   ]
  },
  {
   "cell_type": "markdown",
   "metadata": {},
   "source": [
    "15. (1 балл) Очистим все тексты от ссылок:"
   ]
  },
  {
   "cell_type": "code",
   "execution_count": 89,
   "metadata": {},
   "outputs": [],
   "source": [
    "def replace_weblinks(text):\n",
    "    return re.sub(pattern_link, \"WEBLINK\", text)"
   ]
  },
  {
   "cell_type": "code",
   "execution_count": 90,
   "metadata": {},
   "outputs": [],
   "source": [
    "posts = [replace_weblinks(post) for post in posts]"
   ]
  },
  {
   "cell_type": "markdown",
   "metadata": {},
   "source": [
    "16. (3 балла) Напишите регулярное выражение для поиска внутренних ссылок вк на людей или группы в текстах постов. Например:\n",
    "    \n",
    "[id9062360|Арсений Горшенин]\n",
    "\n",
    "([club185994949|СБПЧ / 9 ноября 2019 / Театро])\n",
    "\n",
    "[club185957052|Новосибирск (Подземка])\n",
    "\n",
    "*Hint: Действуйте по аналогии с регуляркой в 04_Regular_expressions_and_social_networks.ipynb*"
   ]
  },
  {
   "cell_type": "code",
   "execution_count": 98,
   "metadata": {},
   "outputs": [],
   "source": [
    "# your regexp below\n",
    "pattern_mention = re.compile(r\"your regexp\")"
   ]
  },
  {
   "cell_type": "markdown",
   "metadata": {},
   "source": [
    "17. (4 балла) Проверим ваше регулярное выражение (1 балл за каждое правильно упоминание):"
   ]
  },
  {
   "cell_type": "code",
   "execution_count": 95,
   "metadata": {},
   "outputs": [
    {
     "name": "stdout",
     "output_type": "stream",
     "text": [
      "Журнал MENTION поцеловал нас в ушко.\n",
      "7 ноября — MENTION  8 ноября — MENTION\n",
      "21 ноября — Пермь MENTION\n"
     ]
    }
   ],
   "source": [
    "test2 = '''Журнал [club86423570|L'Officiel Russia] поцеловал нас в ушко.\n",
    "7 ноября — [club185957052|Новосибирск (Подземка])  8 ноября — [club185959350|Красноярск (The Mods])\n",
    "21 ноября — Пермь ([club185996153|СБПЧ / 21 ноября 2019 / М5])'''\n",
    "\n",
    "print(re.sub(pattern_mention, \"MENTION\", test2))"
   ]
  },
  {
   "cell_type": "markdown",
   "metadata": {},
   "source": [
    "18. (1 балл) Очистим все тексты от упоминаний:"
   ]
  },
  {
   "cell_type": "code",
   "execution_count": 97,
   "metadata": {},
   "outputs": [],
   "source": [
    "def replace_mentions(text):\n",
    "    return re.sub(pattern_mention, \"MENTION\", text)"
   ]
  },
  {
   "cell_type": "code",
   "execution_count": null,
   "metadata": {},
   "outputs": [],
   "source": [
    "posts = [replace_mentions(post) for post in posts]"
   ]
  },
  {
   "cell_type": "markdown",
   "metadata": {},
   "source": [
    "19. (3 балла) Сохраните очищенные от ссылок, уопминаний и новых строк тексты из `posts` в файл:\n",
    "\n",
    "*Hint: Действуйте по аналогии с кодом в 04_Regular_expressions_and_social_networks.ipynb*"
   ]
  },
  {
   "cell_type": "code",
   "execution_count": null,
   "metadata": {},
   "outputs": [],
   "source": [
    "# your code here"
   ]
  }
 ],
 "metadata": {
  "kernelspec": {
   "display_name": "Python 3",
   "language": "python",
   "name": "python3"
  },
  "language_info": {
   "codemirror_mode": {
    "name": "ipython",
    "version": 3
   },
   "file_extension": ".py",
   "mimetype": "text/x-python",
   "name": "python",
   "nbconvert_exporter": "python",
   "pygments_lexer": "ipython3",
   "version": "3.6.6"
  }
 },
 "nbformat": 4,
 "nbformat_minor": 2
}
